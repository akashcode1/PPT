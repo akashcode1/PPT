{
 "cells": [
  {
   "cell_type": "markdown",
   "id": "d42f3d11",
   "metadata": {},
   "source": [
    "## Question 1-"
   ]
  },
  {
   "cell_type": "code",
   "execution_count": 1,
   "id": "6ec1e9fc",
   "metadata": {},
   "outputs": [],
   "source": [
    "def move_zeros(nums):\n",
    "    i = 0 \n",
    "    for j in range(len(nums)):\n",
    "        if nums[j] != 0:\n",
    "            nums[i], nums[j] = nums[j], nums[i]\n",
    "            i += 1\n",
    "    return nums"
   ]
  },
  {
   "cell_type": "code",
   "execution_count": 2,
   "id": "6df2329b",
   "metadata": {},
   "outputs": [
    {
     "name": "stdout",
     "output_type": "stream",
     "text": [
      "[1, 3, 12, 0, 0]\n"
     ]
    }
   ],
   "source": [
    "nums = [0, 1, 0, 3, 12]\n",
    "result = move_zeros(nums)\n",
    "print(result)"
   ]
  },
  {
   "cell_type": "markdown",
   "id": "60f241d3",
   "metadata": {},
   "source": [
    "- Space Complexity - O(1)\n",
    "- Time Complexity - O(n)"
   ]
  },
  {
   "cell_type": "markdown",
   "id": "c8550bc8",
   "metadata": {},
   "source": [
    "## Question 2-"
   ]
  },
  {
   "cell_type": "code",
   "execution_count": 5,
   "id": "f4633e4e",
   "metadata": {},
   "outputs": [],
   "source": [
    "def first_uniq_char(s):\n",
    "    char_freq = {}  \n",
    "    for char in s:\n",
    "        char_freq[char] = char_freq.get(char, 0) + 1\n",
    "    for i in range(len(s)):\n",
    "        if char_freq[s[i]] == 1:\n",
    "            return i\n",
    "    return -1"
   ]
  },
  {
   "cell_type": "code",
   "execution_count": 6,
   "id": "2376445b",
   "metadata": {},
   "outputs": [
    {
     "name": "stdout",
     "output_type": "stream",
     "text": [
      "0\n"
     ]
    }
   ],
   "source": [
    "s=\"leetcode\"\n",
    "print(first_uniq_char(s))"
   ]
  },
  {
   "cell_type": "markdown",
   "id": "3bed30da",
   "metadata": {},
   "source": [
    "- Space Complexity - O(k)\n",
    "- Time Complexity - O(n)"
   ]
  }
 ],
 "metadata": {
  "kernelspec": {
   "display_name": "Python 3 (ipykernel)",
   "language": "python",
   "name": "python3"
  },
  "language_info": {
   "codemirror_mode": {
    "name": "ipython",
    "version": 3
   },
   "file_extension": ".py",
   "mimetype": "text/x-python",
   "name": "python",
   "nbconvert_exporter": "python",
   "pygments_lexer": "ipython3",
   "version": "3.9.13"
  }
 },
 "nbformat": 4,
 "nbformat_minor": 5
}
